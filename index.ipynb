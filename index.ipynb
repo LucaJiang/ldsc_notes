{
 "cells": [
  {
   "cell_type": "markdown",
   "id": "4f2133ce",
   "metadata": {
    "slideshow": {
     "slide_type": "slide"
    }
   },
   "source": [
    "<!-- title page -->\n",
    "# Notes on LDSC\n",
    "\n",
    "Jiang Wenxin\n",
    "\n",
    "2023.12.22\n",
    "\n"
   ]
  },
  {
   "cell_type": "markdown",
   "id": "4087ef47",
   "metadata": {
    "slideshow": {
     "slide_type": "slide"
    }
   },
   "source": [
    "\n",
    "- [Notes on LDSC](#notes-on-ldsc)\n",
    "  - [Motivation, Aims and Formula](#motivation-aims-and-formula)\n",
    "  - [Individual-Level Model](#individual-level-model)\n",
    "  - [From Individual-level to LD Score and Heritability](#from-individual-level-to-ld-score-and-heritability)\n",
    "  - [Summary-Level Model](#summary-level-model)\n",
    "    - [Proof of Proposition 1](#proof-of-proposition-1)\n",
    "  - [Algorithm for Estimating chi-squared and Heritability](#algorithm-for-estimating-chi-squared-and-heritability)\n",
    "  - [Criticisms](#criticisms)\n",
    "  - [Limitations](#limitations)\n",
    "  - [Cross-trait LDSC](#cross-trait-ldsc)\n",
    "    - [Shared Samples](#shared-samples)\n",
    "  - [Reference](#reference)\n",
    "\n"
   ]
  },
  {
   "cell_type": "markdown",
   "id": "fac76f9d",
   "metadata": {
    "slideshow": {
     "slide_type": "slide"
    }
   },
   "source": [
    "\n",
    "## Motivation, Aims and Formula\n",
    "\n",
    "- **Individual-level model:** $\\phi=X\\beta+\\epsilon$. If individual data is available, we can estimate the effect size $\\beta$ directly.\n",
    "- **Summary-level data:** If only the z-score of variant $j$\n",
    "$$z_j=\\left(\\hat{\\beta}_j-\\bar{\\beta}_j\\right)/\\text{SE}_j=\\hat{\\beta}_j$$\n",
    "is available, where $\\hat{\\beta}_j$ is the estimated effect size and $\\text{SE}_j$ is the standard error of $\\hat{\\beta}_j$, then calculate the $\\chi^2$ statistic of variant $j$ with $$\\chi^2_j=N\\hat{\\beta}_j^2=Nz_j^2.$$\n",
    "\n"
   ]
  },
  {
   "cell_type": "markdown",
   "id": "afe224d1",
   "metadata": {
    "slideshow": {
     "slide_type": "subslide"
    }
   },
   "source": [
    "\n",
    "- **Aim:** Estimate and quantify the contribution of the polygenic signal and the confounding factors to the $\\chi^2$ statistics of a variant in GWAS summary statistics. Then we can estimate the SNP heritability $h_g^2$ by regressing the $\\chi^2$ statistics on the LD score of each variant. And we can calculate the genetic correlation between two traits.\n",
    "- **Formula**: Examining the relationship between the $\\chi^2$ statistics and the LD score of a variant, $$\\begin{equation*}\\mathbb{E}\\left[\\chi^2_j|\\ell_j\\right]=\\frac{N h_g^2}{M}\\ell_j+Na+1\\end{equation*}$$\n",
    "where $\\ell_j$ is the LD score of variant $j$, $h_g^2$ is the SNP heritability, $N$ is the sample size, $M$ is the number of variants, and $a$ measures the confounding factors.\n",
    "\n"
   ]
  },
  {
   "cell_type": "markdown",
   "id": "72e086b6",
   "metadata": {
    "slideshow": {
     "slide_type": "slide"
    }
   },
   "source": [
    "\n",
    "## Individual-Level Model\n",
    "\n",
    "**Model:**\n",
    "$$\\begin{equation}\n",
    "\\phi=X\\beta+\\epsilon\\tag{1.1}\n",
    "\\end{equation}$$\n",
    "\n",
    "<!-- $\\phi$: N by 1 vector of phenotypes\n",
    "\n",
    "$X$: N by M matrix of normalized genotypes\n",
    "\n",
    "$\\beta$: M by 1 vector of per-normalized-genotype effect sizes\n",
    "\n",
    "$\\epsilon$: N by 1 vector of environmental effects\n",
    "\n",
    "**Expectation and Variance:** -->\n",
    "\n",
    "<!-- table -->\n",
    "\n",
    "<!-- | | $\\mathbb{E}$ | $\\text{Var}$ |\n",
    "| --- | --- | --- |\n",
    "| $\\beta$ | 0 | $\\frac{h_g^2}{M}I$ |\n",
    "| $\\epsilon$ | 0 | $\\left(1-h_g^2\\right)I$ |\n",
    "| $\\phi$ | 0 | $\\frac{h_g^2}{M}XX^\\text{T}+\\left(1-h_g^2\\right)I$ | -->\n",
    "\n",
    "**Notations:**\n",
    "\n",
    "| Variable | Size | Description | $\\mathbb{E}$ | $\\text{Var}$ |\n",
    "| --- | --- | --- | --- | --- |\n",
    "| $\\phi$ | N*1 | Phenotype vector | $0$  | $\\frac{h_g^2}{M}XX^\\text{T}+\\left(1-h_g^2\\right)I$ |\n",
    "| $X$ | N*M | Normalized Genotype matrix | $0$ | $I$ |\n",
    "| $\\beta$ | M*1 | Per-normalized Effect size vector | $0$ | $\\frac{h_g^2}{M}I$ |\n",
    "| $\\epsilon$ | N*1 | Environmental effect vector | $0$ | $\\left(1-h_g^2\\right)I$ |\n",
    "\n",
    "**Assumptions:**\n",
    "\n",
    "1. The genotype at variant $j$ for individual $i$ is independent of other individuals' genotypes.\n",
    "2. $X,\\beta$ and $\\epsilon$ are mutually independent.\n",
    "\n"
   ]
  },
  {
   "cell_type": "markdown",
   "id": "ad4a2fea",
   "metadata": {
    "slideshow": {
     "slide_type": "slide"
    }
   },
   "source": [
    "\n",
    "## From Individual-level to LD Score and Heritability\n",
    "\n",
    "**Linkage disequilibrium (LD):**\n",
    "Define the correlation between two variants $j$ and $k$ as\n",
    "$$\\begin{equation*}r_{jk}:=\\mathbb{E}\\left[X_{ij}X_{ik}\\right]\\end{equation*}$$\n",
    "\n",
    "*Note:* $r_{jk}=\\mathbb{E}\\left[\\frac{\\text{Cov}\\left[X_{ij},X_{ik}\\right]}{\\sqrt{\\text{Var}\\left[X_{ij}\\right]\\text{Var}\\left[X_{ik}\\right]}}\\right]=\\mathbb{E}\\left[X_{ij}X_{ik}\\right] - \\mathbb{E}\\left[X_{ij}\\right]\\mathbb{E}\\left[X_{ik}\\right]=\\mathbb{E}\\left[X_{ij}X_{ik}\\right]$\n",
    "\n",
    "**LD Score:**\n",
    "Define the LD score of variant $j$ as\n",
    "$$\\begin{equation}\\ell_j:=\\sum_{k=1}^M r_{jk}^2\\tag{1.2}\\end{equation}$$\n",
    "\n",
    "**Heritability:**\n",
    "$$\\begin{equation*}\n",
    "% h_g^2=\\frac{\\text{Var}\\left[\\phi|X\\right]-I}{XX^\\text{T}/M-I}\n",
    "\\text{Var}\\left[\\phi|X\\right]=\\frac{h_g^2}{M}XX^\\text{T}+\\left(1-h_g^2\\right)I\n",
    "\\end{equation*}$$\n",
    "\n",
    "*Note:* $h_g^2$ is the proportion of phenotypic variance explained by the genotypes. It is also called the SNP heritability. It is the ratio of the variance of the phenotype explained by the genotypes to the total variance of the phenotype.\n",
    "\n"
   ]
  },
  {
   "cell_type": "markdown",
   "id": "2320ce99",
   "metadata": {
    "slideshow": {
     "slide_type": "slide"
    }
   },
   "source": [
    "\n",
    "## Summary-Level Model\n",
    "\n",
    "**$\\chi^2$ statistic:**\n",
    "Define the $\\chi^2$ statistic of variant $j$ as\n",
    "$$\\begin{equation*}\\chi^2_j:=N\\hat{\\beta}_j^2\\end{equation*}$$\n",
    "\n",
    "where $\\hat{\\beta}_j:=X_j^\\text{T}\\phi/N$ is the estimated effect size of variant $j$.\n",
    "\n",
    "**Proposition 1:**\n",
    "The expected $\\chi^2$-value of variant $j$ is\n",
    "$$\\begin{equation}\\mathbb{E}\\left[\\chi^2_j\\right]=\\frac{N h_g^2}{M}\\ell_j+1\\tag{1.3}\\end{equation}$$\n",
    "\n"
   ]
  },
  {
   "cell_type": "markdown",
   "id": "d9a03aee",
   "metadata": {
    "slideshow": {
     "slide_type": "slide"
    }
   },
   "source": [
    "\n",
    "### Proof of Proposition 1\n",
    "\n",
    "Since $\\chi^2_j=N\\hat{\\beta}_j^2$, we have\n",
    "$$\\begin{equation*}\\begin{aligned}\n",
    "\\mathbb{E}\\left[\\chi^2_j\\right]&=\\mathbb{E}\\left[N\\hat{\\beta}_j^2\\right]\\\\\n",
    "&=N\\left(\\text{Var}\\left[\\hat{\\beta}_j\\right]+\\mathbb{E}^2\\left[\\hat{\\beta}_j\\right]\\right)\\qquad [\\text{MoM}]\\\\\n",
    "&=N\\text{Var}\\left[\\hat{\\beta}_j\\right] \\qquad \\left[\\mathbb{E}\\left[\\hat{\\beta}_j\\right]=0 \\right]\\\\\n",
    "\\end{aligned}\\end{equation*}$$\n",
    "\n",
    "Obtain $\\text{Var}\\left[\\hat{\\beta}_j\\right]$ by the law of total variance:\n",
    "$$\\begin{equation}\\begin{aligned}\n",
    "\\text{Var}\\left[\\hat{\\beta}_j\\right]&=\\mathbb{E}\\left[\\text{Var}\\left[\\hat{\\beta}_j|X\\right]\\right]+\\text{Var}\\left[\\mathbb{E}\\left[\\hat{\\beta}_j|X\\right]\\right]\\\\\n",
    "&=\\mathbb{E}\\left[\\text{Var}\\left[\\hat{\\beta}_j|X\\right]\\right]+0 \\qquad \\left[\\mathbb{E}\\left[\\hat{\\beta}_j|X\\right]=0 \\right]\\\\\n",
    "&=\\mathbb{E}\\left[\\text{Var}\\left[X_j^\\text{T}\\phi/N|X\\right]\\right] \\qquad \\left[\\text{LSE}: \\hat{\\beta}_j=X_j^\\text{T}\\phi/N \\right]\\\\\n",
    "&=\\mathbb{E}\\left[X_j\\text{Var}\\left[\\phi|X\\right]X_j^\\text{T}/N^2\\right]\\\\\n",
    "&=\\mathbb{E}\\left[\\frac{h_g^2}{MN^2}X_j^\\text{T}XX^\\text{T}X_j+\\frac{1-h_g^2}{N}\\right] \\quad \\left[X_j^\\text{T}X_j=N\\right]\n",
    "\\end{aligned}\\tag{1.4}\\end{equation}$$\n",
    "\n"
   ]
  },
  {
   "cell_type": "markdown",
   "id": "b4fc0304",
   "metadata": {
    "slideshow": {
     "slide_type": "subslide"
    }
   },
   "source": [
    "\n",
    "Let $\\tilde{r}_{jk}:=\\frac{1}{N}\\sum_{i=1}^N X_{ij}X_{ik}$ be the sample correlation between additively-coded genotypes at variants $j$ and $k$. Then, rewrite the term on the left as\n",
    "$$\\begin{equation}\\tag{1.6}\\frac{1}{N^2}X_j^\\text{T}XX^\\text{T}X_j=\\sum_{k=1}^M \\tilde{r}_{jk}^2\\end{equation}$$\n",
    "\n",
    "Obtain the expectation of $\\tilde{r}_{jk}^2$ by delta-method:\n",
    "$$\\begin{equation}\\begin{aligned}\n",
    "\\mathbb{E}\\left[\\tilde{r}_{jk}^2\\right]&=\\text{Var}\\left[\\tilde{r}_{jk}\\right]+\\mathbb{E}^2\\left[\\tilde{r}_{jk}\\right] \\qquad [\\text{MoM}]\\\\\n",
    "% &=\\text{Var}\\left[\\frac{1}{N}\\sum_{i=1}^N X_{ij}X_{ik}\\right]+\\mathbb{E}^2\\left[\\frac{1}{N}\\sum_{i=1}^N X_{ij}X_{ik}\\right]\\\\\n",
    "% &=\\frac{1}{N^2}\\sum_{i=1}^N\\text{Var}\\left[X_{ij}X_{ik}\\right]+\\frac{1}{N^2}\\left(\\sum_{i=1}^N\\mathbb{E}\\left[X_{ij}X_{ik}\\right]\\right)^2 \\\\\n",
    "% &=\\frac{1}{N^2}\\sum_{i=1}^N\\text{Var}\\left[X_{ij}X_{ik}\\right]+r_{jk}^2 \\qquad \\left[\\mathbb{E}\\left[X_{ij}X_{ik}\\right]=r_{jk}\\right]\\\\\n",
    "&\\approx r_{jk}^2+(1-r_{jk}^2)/N \\qquad \\left[\\text{delta method}\\right]\n",
    "% \\textbf{??}\n",
    "\\end{aligned}\\tag{1.7}\\end{equation}$$\n",
    "\n",
    "> [Discussions on google group](https://groups.google.com/g/ldsc_users/c/mxbnbodkGj0):\n",
    ">\n",
    "> $$\\begin{equation*}\\begin{aligned}\\mu_2^{\\prime}&=1-\\frac{(n-2)\\left(1-\\rho^2\\right)}{n-1} F\\left(1,1, \\frac{1}{2}(n+1) ; \\rho^2\\right)\\\\&\\rightarrow 1-\\left(1-\\frac{1}{n-1}\\right)\\left(1-\\rho^2\\right), n\\rightarrow \\infty\\end{aligned}\\end{equation*}$$\n",
    ">\n",
    "> Here $\\mu_2^{\\prime}$ is the 2nd moment of sample correlation, $\\rho$ is the population correlation coefficient, $\\mathrm{n}$ is # observations.\n",
    "\n",
    "<!-- $$\n",
    "F\\left(\\alpha, \\beta, \\delta ; \\rho^2\\right)=\\frac{\\Gamma(\\delta)}{\\Gamma(\\alpha) \\Gamma(\\beta)} \\sum_{j=0}^{\\infty} \\frac{\\Gamma(\\alpha+j) \\Gamma(\\beta+j)}{\\Gamma(\\delta+j)} \\frac{\\left(\\rho^2\\right)^j}{j !}\n",
    "$$ -->\n",
    "\n"
   ]
  },
  {
   "cell_type": "markdown",
   "id": "ca07a662",
   "metadata": {
    "slideshow": {
     "slide_type": "subslide"
    }
   },
   "source": [
    "\n",
    "We have\n",
    "$$\\begin{equation}\\begin{aligned}\n",
    "\\mathbb{E}\\left[\\sum_{k=1}^M \\tilde{r}_{jk}^2\\right] &\\approx \\sum_{k=1}^M r_{jk}^2+\\frac{\\sum_{k=1}^M\\left(1-r_{jk}^2\\right)}{N}\\\\\n",
    "&\\approx \\ell_j+\\frac{M-\\ell_j}{N} \\qquad \\left[\\text{def. of } \\ell_j\\right]\n",
    "\\end{aligned}\\tag{1.8}\\end{equation}$$\n",
    "\n",
    "Therefore, we can continue the derivation of $\\text{Var}\\left[\\hat{\\beta}_j\\right]$ as\n",
    "$$\\begin{equation*}\\begin{aligned}\n",
    "\\text{Var}\\left[\\hat{\\beta}_j\\right]&= \\mathbb{E}\\left[\\frac{h_g^2}{MN^2}X_j^\\text{T}XX^\\text{T}X_j+\\frac{1-h_g^2}{N}\\right]\\\\\n",
    "% &=\\frac{h_g^2}{MN^2}\\mathbb{E}\\left[X_j^\\text{T}XX^\\text{T}X_j\\right]+\\frac{1-h_g^2}{N}\\\\\n",
    "&=\\frac{h_g^2}{MN^2}\\mathbb{E}\\left[\\sum_{k=1}^M \\tilde{r}_{jk}^2\\right]+\\frac{1-h_g^2}{N} \\qquad \\left[\\text{Eq. (1.6)}\\right]\\\\\n",
    "&=\\frac{h_g^2}{MN^2}\\left(\\ell_j+\\frac{M-\\ell_j}{N}\\right)+\\frac{1-h_g^2}{N} \\qquad \\left[\\text{Eq. (1.8)}\\right]\\\\\n",
    "&=\\frac{(1-1/N)h_g^2}{M}\\ell_j+\\frac{1}{N}\\\\\n",
    "&\\approx\\frac{h_g^2}{M}\\ell_j+\\frac{1}{N} \\qquad \\left[1-1/N\\rightarrow 1\\right]\n",
    "\\end{aligned}\\end{equation*}$$\n",
    "\n"
   ]
  },
  {
   "cell_type": "markdown",
   "id": "2afeab2d",
   "metadata": {
    "slideshow": {
     "slide_type": "subslide"
    }
   },
   "source": [
    "\n",
    "Finally, we can obtain the expectation of $\\chi^2_j$ as\n",
    "$$\\begin{equation}\\tag{1.9}\\mathbb{E}\\left[\\chi^2_j\\right]=N\\text{Var}\\left[\\hat{\\beta}_j\\right]\\approx\\frac{N h_g^2}{M}\\ell_j+1\\end{equation}$$\n",
    "\n",
    "Here we have proved Proposition 1.\n",
    "\n"
   ]
  },
  {
   "cell_type": "markdown",
   "id": "0946a53e",
   "metadata": {
    "slideshow": {
     "slide_type": "slide"
    }
   },
   "source": [
    "\n",
    "## Algorithm for Estimating chi-squared and Heritability\n",
    "\n",
    "1. Calculate the LD score $\\ell_j=\\sum_{k=1}^M r_{jk}^2$ for each variant $j$ from the sumstat of a reference panel.\n",
    "2. Calculate the expected $\\chi^2$-value of each variant $j$ with $\\mathbb{E}\\left[\\chi^2_j\\right]=Nz_j^2$.\n",
    "3. Estimate the $h_g^2$ by regressing the expected $\\chi^2$-value on the LD score $\\ell_j$ according to $\\mathbb{E}\\left[\\chi^2_j\\right]=\\frac{N h_g^2}{M}\\ell_j+1$.\n",
    "\n"
   ]
  },
  {
   "cell_type": "markdown",
   "id": "74198d76",
   "metadata": {
    "slideshow": {
     "slide_type": "slide"
    }
   },
   "source": [
    "\n",
    "## Criticisms\n",
    "\n",
    "<!-- - The same LD score is used for all pairs of traits.\n",
    "- The LD score is a weak instrument that explains only a small proportion of variance in the dependent variable.\n",
    "- The method relies on numerous linearity and independence assumptions.\n",
    "- The method does not provide a visual representation of an LD score regression analysis.\n",
    "- The method does not perform standard regression diagnostics.\n",
    "- The method does not always provide consistent results with known causal relationships.\n",
    "- The method does not always provide a validation against known causal relationships.\n",
    "- The method does not provide a causal relationship between two traits. -->\n",
    "\n",
    "A criticism of LD score regression is that every analysis for each pair of traits uses the same LD scores as the dependent variable in the regression model (and as LD scores have been precomputed by its proponents, literally the same LD scores are used in the majority of applied analyses). This means that any influential points in the regression will affect not only one LD score regression analysis, but all such analyses.\n",
    "\n",
    "LD scores are also likely to be a ‘weak instrument’ in the language of Mendelian randomization, as they will only explain a small proportion of variance in the dependent variable. Additionally, due to the scale of the data, it is not possible to provide a visual representation of an LD score regression analysis. Standard regres- sion diagnostics are rarely, if ever, performed. Finally, results from LD score regression are not always consistent with known causal relationships; for example, the method did not find evidence for a genetic correlation between LDL cholesterol and CHD risk that survived a multipletesting correction (Bulik-Sullivan et al., 2015).\n",
    "\n"
   ]
  },
  {
   "cell_type": "markdown",
   "id": "f3101400",
   "metadata": {
    "slideshow": {
     "slide_type": "subslide"
    }
   },
   "source": [
    "\n",
    "The method has utility in mapping the genetic distance between related phenotypes, such as determining how closely related different psychiatric disorders are in terms of their genetic predictors (Cross-Disorder Group of the Psychiatric Genomics Consortium, 2013). However, the reliance of the method on numerous linearity and independence assumptions, incorrect weighting in the linear regression model (correct weights would require computation of the Cholesky decomposition of a matrix with dimension equal to the number of genetic variants in the model–misspecified weights are recommended for use in practice), and lack of validation against known causal relationships mean that results from the method should not be treated too seriously as an assessment of causality.\n",
    "\n"
   ]
  },
  {
   "cell_type": "markdown",
   "id": "1a563967",
   "metadata": {
    "slideshow": {
     "slide_type": "slide"
    }
   },
   "source": [
    "\n",
    "## Limitations\n",
    "\n",
    "<!-- - No constraint is applied to heritability estimates, therefore it is possible to get non-interpretable estimates that are below 0 or above 1.\n",
    "- Variance of estimators is calculated using a resampling method, the blockwise jackknife. For moderate GWAS sample size, this approach often leads to very wide confidence intervals for enrichment, thereby reducing statistical power.\n",
    "- z-scores for SNPs in LD may be strongly correlated. LD score regression reduces the impact of dependence among data points by using specially designed weights in weighted least squares estimation and only including HapMap SNPs in the model. Still, it remains unclear if such empirical approaches are sufficient to remove bias. -->\n",
    "\n",
    "First, no constraint is applied to heritability estimates, therefore it is possible to get non-interpretable estimates that are below 0 or above 1.\n",
    "\n",
    "Second, variance of estimators is cal- culated using a resampling method, the blockwise jackknife. For moderate GWAS sample size, this approach often leads to very wide confidence intervals for enrichment, thereby reducing statistical power.\n",
    "\n",
    "Finally, z-scores for SNPs in LD may be strongly correlated. LD score regression reduces the impact of dependence among data points by using specially designed weights in weighted least squares estimation and only including HapMap SNPs in the model. Still, it remains unclear if such empirical approaches are sufficient to remove bias.\n",
    "\n"
   ]
  },
  {
   "cell_type": "markdown",
   "id": "789436d2",
   "metadata": {
    "slideshow": {
     "slide_type": "slide"
    }
   },
   "source": [
    "\n",
    "## Cross-trait LDSC\n",
    "\n",
    "Cross-trait LD score regression is based on the following model:\n",
    "$$\n",
    "\\begin{array}{ll}\n",
    "Y_1=X \\beta+\\varepsilon, & \\beta \\sim N\\left(0, \\frac{h_1^2}{M} I\\right), \\quad \\varepsilon \\sim N\\left(0,\\left(1-h_1^2\\right) I\\right), \\\\\n",
    "Y_2=Z \\gamma+\\delta, & \\gamma \\sim N\\left(0, \\frac{h_2^2}{M} I\\right), \\quad \\delta \\sim N\\left(0,\\left(1-h_2^2\\right) I\\right) .\n",
    "\\end{array}\n",
    "$$\n",
    "\n",
    "SNPs' effects on two different traits are assumed to be correlated:\n",
    "$$\n",
    "E\\left(\\beta \\gamma^T\\right)=\\frac{\\rho_g}{M} I,\n",
    "$$\n",
    "where $\\rho_g$ is the genetic covariance parameter that quantifies the genetic sharing between traits $Y_1$ and $Y_2$.\n",
    "\n"
   ]
  },
  {
   "cell_type": "markdown",
   "id": "0424c535",
   "metadata": {
    "slideshow": {
     "slide_type": "slide"
    }
   },
   "source": [
    "\n",
    "### Shared Samples\n",
    "\n",
    "Importantly, LD score regression allows two GWASs to share a fraction of samples. Without loss of generality, assume the first $n_s$ samples (i.e. rows) in $X$ and $Z$ are identical and the non-genetic effects for shared samples are correlated:\n",
    "$$\n",
    "E\\left(\\varepsilon_i \\delta_i\\right)=\\rho_e, \\quad i=1, \\ldots, n_s\n",
    "$$\n",
    "\n",
    "Then, the cross-trait LD score regression formula is\n",
    "$$\n",
    "E\\left(\\left(z_1\\right)_j\\left(z_2\\right)_j\\right)=\\frac{\\sqrt{n_1 n_2} \\rho_g}{M} l_j+\\frac{\\left(\\rho_g+\\rho_e\\right) n_s}{\\sqrt{n_1 n_2}}\n",
    "$$\n",
    "\n",
    "Similar to single-trait analysis, regression coefficients can be used to estimate genetic covariance, or a close-related but more interpretable metric - genetic correlation:\n",
    "$$\n",
    "\\text { corr }=\\frac{\\rho_g}{\\sqrt{h_1^2 h_2^2}}\n",
    "$$\n",
    "\n"
   ]
  },
  {
   "cell_type": "markdown",
   "id": "7369edfa",
   "metadata": {
    "slideshow": {
     "slide_type": "subslide"
    }
   },
   "source": [
    "\n",
    "A recent method, GNOVA (Lu et al., 2017a), has extended cross-tissue LD score regression to model annotation-stratified genetic covariance. When $K$ functional annotations are present in the model,\n",
    "$$\n",
    "\\begin{aligned}\n",
    "Y_1  =\\sum_{i=1}^K X_i \\beta_i+\\varepsilon,\\quad Y_2  =\\sum_{i=1}^K Z_i \\gamma_i+\\chi, \\quad\n",
    "E\\left(\\beta_i \\gamma_i^T\\right) & =\\frac{\\rho_i}{m_i} I .\n",
    "\\end{aligned}\n",
    "$$\n",
    "\n",
    "Parameters $\\rho_i(i=1, \\ldots, K)$ quantify the genetic covariance components for each functional annotation. GNOVA used an estimator based on the method of moments to estimate genetic covariance:\n",
    "$$\n",
    "\\left(\\begin{array}{c}\n",
    "\\hat{\\rho}_1 \\\\\n",
    "\\vdots \\\\\n",
    "\\hat{\\rho}_K\n",
    "\\end{array}\\right)=\\frac{1}{\\sqrt{n_1 n_2}}\\left(\\begin{array}{ccc}\n",
    "\\frac{1}{m_1 m_1} l_{11} & \\cdots & \\frac{1}{m_K m_1} l_{K 1} \\\\\n",
    "\\vdots & \\ddots & \\vdots \\\\\n",
    "\\frac{1}{m_1 m_K} l_{1 K} & \\cdots & \\frac{1}{m_K m_K} l_{K K}\n",
    "\\end{array}\\right)^{-1}\\left(\\begin{array}{c}\n",
    "\\frac{1}{m_1}\\left(z_1\\right)_1^T\\left(z_2\\right)_1 \\\\\n",
    "\\vdots \\\\\n",
    "\\frac{1}{m_K}\\left(z_1\\right)_K^T\\left(z_2\\right)_K\n",
    "\\end{array}\\right),\n",
    "$$\n",
    "where $l_{i j}$ denotes the sum of all pairwise LD between SNPs in the $i$ th and $j$ th functional annotations; $\\left(z_j\\right)_i$ denotes the vector of $z$-scores from the $j$ th study for SNPs in the $i$ th functional annotation.\n",
    "\n"
   ]
  },
  {
   "cell_type": "markdown",
   "id": "6df786c9",
   "metadata": {
    "slideshow": {
     "slide_type": "subslide"
    }
   },
   "source": [
    "\n",
    "To date, LD score regression is not able to estimate annotation-stratified genetic covariance. GNOVA also shows higher statistical power than LD score regression in both simulations and real data (Lu et al., 2017a).\n",
    "\n"
   ]
  },
  {
   "cell_type": "markdown",
   "id": "366a4b85",
   "metadata": {
    "slideshow": {
     "slide_type": "slide"
    }
   },
   "source": [
    "\n",
    "## Reference\n",
    "\n",
    "1. B. K. Bulik-Sullivan et al., LD Score regression distinguishes confounding from polygenicity in genome-wide association studies, Nat Genet, vol. 47, no. 3, Art. no. 3, Mar. 2015, doi: 10.1038/ng.3211.\n",
    "\n",
    "2. https://github.com/YangLabHKUST/XMAP/blob/main/R/ldsc.R\n",
    "\n",
    "3. Handbook of statistical genomics[M]. John Wiley & Sons, 2019.\n",
    "\n"
   ]
  },
  {
   "cell_type": "markdown",
   "id": "dee22531",
   "metadata": {
    "slideshow": {
     "slide_type": "subslide"
    }
   },
   "source": [
    "\n",
    "END\n"
   ]
  }
 ],
 "metadata": {},
 "nbformat": 4,
 "nbformat_minor": 5
}
