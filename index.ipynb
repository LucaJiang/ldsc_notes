{
 "cells": [
  {
   "cell_type": "markdown",
   "id": "096bcfbf",
   "metadata": {
    "slideshow": {
     "slide_type": "slide"
    }
   },
   "source": [
    "<!-- title page -->\n",
    "# Notes on LDSC\n",
    "\n",
    "Jiang Wenxin\n",
    "\n",
    "2023.12.22\n",
    "\n"
   ]
  },
  {
   "cell_type": "markdown",
   "id": "5a577787",
   "metadata": {
    "slideshow": {
     "slide_type": "slide"
    }
   },
   "source": [
    "<!-- toc -->\n",
    "- [Notes on LDSC](#notes-on-ldsc)\n",
    "  - [Individual-Level Model](#individual-level-model)\n",
    "  - [From Individual-level to LD Score and Heritability](#from-individual-level-to-ld-score-and-heritability)\n",
    "  - [Summary-Level Model](#summary-level-model)\n",
    "    - [Proof of Proposition 1](#proof-of-proposition-1)\n",
    "  - [Reference](#reference)\n",
    "\n"
   ]
  },
  {
   "cell_type": "markdown",
   "id": "2a0693ba",
   "metadata": {
    "slideshow": {
     "slide_type": "slide"
    }
   },
   "source": [
    "\n",
    "<!-- ## Introduction -->\n",
    "\n",
    "<!-- $$\\begin{equation}\\tag{eq:1}\n",
    "\\begin{aligned}\n",
    "\\sum_{i=1}^n b&=0\\\\\n",
    "\\sum_{i=1}^n c&=0\\\\\n",
    "\\end{aligned}\n",
    "\\end{equation}$$ -->\n",
    "\n",
    "<!-- -------------------- -->\n",
    "\n",
    "## Individual-Level Model\n",
    "\n",
    "**Model:**\n",
    "$$\\begin{equation}\\tag{1.1}\n",
    "\\phi=X\\beta+\\epsilon\n",
    "\\end{equation}$$\n",
    "\n",
    "$\\phi$: N by 1 vector of phenotypes\n",
    "\n",
    "$X$: N by M matrix of normalized genotypes\n",
    "\n",
    "$\\beta$: M by 1 vector of per-normalized-genotype effect sizes\n",
    "\n",
    "$\\epsilon$: N by 1 vector of environmental effects\n",
    "\n",
    "**Expectation and Variance:**\n",
    "\n",
    "<!-- table -->\n",
    "\n",
    "| | $\\mathbb{E}$ | $\\text{Var}$ |\n",
    "| --- | --- | --- |\n",
    "| $\\beta$ | 0 | $\\frac{h_g^2}{M}I$ |\n",
    "| $\\epsilon$ | 0 | $\\left(1-h_g^2\\right)I$ |\n",
    "| $\\phi$ | 0 | $\\frac{h_g^2}{M}XX^\\text{T}+\\left(1-h_g^2\\right)I$ |\n",
    "\n",
    "**Assumptions:**\n",
    "\n",
    "1. The genotype at variant $j$ for individual $i$ is independent of other individuals' genotypes.\n",
    "2. $X,\\beta$ and $\\epsilon$ are mutually independent.\n",
    "\n"
   ]
  },
  {
   "cell_type": "markdown",
   "id": "727c12d9",
   "metadata": {
    "slideshow": {
     "slide_type": "slide"
    }
   },
   "source": [
    "\n",
    "## From Individual-level to LD Score and Heritability\n",
    "\n",
    "**Linkage disequilibrium (LD):**\n",
    "Define the correlation between two variants $j$ and $k$ as\n",
    "$$\\begin{equation*}r_{jk}:=\\mathbb{E}\\left[X_{ij}X_{ik}\\right]\\end{equation*}$$\n",
    "\n",
    "**LD Score:**\n",
    "Define the LD score of variant $j$ as\n",
    "$$\\begin{equation}\\tag{1.2}\\ell_j:=\\sum_{k=1}^M r_{jk}^2\\end{equation}$$\n",
    "\n",
    "**Heritability:**\n",
    "Since $\\text{Var}\\left[\\phi|X\\right]=\\frac{h_g^2}{M}XX^\\text{T}+\\left(1-h_g^2\\right)I$, we have\n",
    "$$\\begin{equation}\\tag{1.3}h_g^2=\\frac{\\text{Var}\\left[\\phi|X\\right]-I}{XX^\\text{T}/M-I}\\end{equation}$$\n",
    "\n",
    "> $h_g^2$ is the proportion of phenotypic variance explained by the genotypes. It is also called the SNP heritability. It is the ratio of the variance of the phenotype explained by the genotypes to the total variance of the phenotype.\n",
    "\n"
   ]
  },
  {
   "cell_type": "markdown",
   "id": "3bc4875e",
   "metadata": {
    "slideshow": {
     "slide_type": "slide"
    }
   },
   "source": [
    "\n",
    "## Summary-Level Model\n",
    "\n",
    "**$\\chi^2$ statistic:**\n",
    "Define the $\\chi^2$ statistic of variant $j$ as\n",
    "$$\\begin{equation*}\\chi^2_j:=N\\hat{\\beta}_j^2\\end{equation*}$$\n",
    "where $\\hat{\\beta}_j:=X_j^\\text{T}\\phi/N$ is the estimated effect size of variant $j$.\n",
    "\n",
    "**Proposition 1:**\n",
    "The expected $\\chi^2$-value of variant $j$ is\n",
    "$$\\begin{equation}\\tag{1.3}\\mathbb{E}\\left[\\chi^2_j\\right]=\\frac{N h_g^2}{M}\\ell_j+1\\end{equation}$$\n",
    "\n"
   ]
  },
  {
   "cell_type": "markdown",
   "id": "ff71a72d",
   "metadata": {
    "slideshow": {
     "slide_type": "slide"
    }
   },
   "source": [
    "\n",
    "### Proof of Proposition 1\n",
    "\n",
    "Since $\\chi^2_j=N\\hat{\\beta}_j^2$, we have\n",
    "$$\\begin{equation*}\\begin{aligned}\n",
    "\\mathbb{E}\\left[\\chi^2_j\\right]&=\\mathbb{E}\\left[N\\hat{\\beta}_j^2\\right]\\\\\n",
    "&=N\\left(\\text{Var}\\left[\\hat{\\beta}_j\\right]+\\mathbb{E}^2\\left[\\hat{\\beta}_j\\right]\\right)\\qquad [\\text{MoM}]\\\\\n",
    "&=N\\text{Var}\\left[\\hat{\\beta}_j\\right] \\qquad \\left[\\mathbb{E}\\left[\\hat{\\beta}_j\\right]=0 \\right]\\\\\n",
    "\\end{aligned}\\end{equation*}$$\n",
    "\n",
    "Obtain $\\text{Var}\\left[\\hat{\\beta}_j\\right]$ by the law of total variance:\n",
    "$$\\begin{equation}\\tag{1.4}\\begin{aligned}\n",
    "\\text{Var}\\left[\\hat{\\beta}_j\\right]&=\\mathbb{E}\\left[\\text{Var}\\left[\\hat{\\beta}_j|X\\right]\\right]+\\text{Var}\\left[\\mathbb{E}\\left[\\hat{\\beta}_j|X\\right]\\right]\\\\\n",
    "&=\\mathbb{E}\\left[\\text{Var}\\left[\\hat{\\beta}_j|X\\right]\\right]+0 \\qquad \\left[\\mathbb{E}\\left[\\hat{\\beta}_j|X\\right]=0 \\right]\\\\\n",
    "&=\\mathbb{E}\\left[\\text{Var}\\left[X_j^\\text{T}\\phi/N|X\\right]\\right] \\qquad \\left[\\text{LSE}: \\hat{\\beta}_j=X_j^\\text{T}\\phi/N \\right]\\\\\n",
    "&=\\mathbb{E}\\left[X_j\\text{Var}\\left[\\phi|X\\right]X_j^\\text{T}/N^2\\right]\\\\\n",
    "&=\\mathbb{E}\\left[\\left(\\frac{h_g^2}{M}X_j^\\text{T}XX^\\text{T}X_j+N\\left(1-h_g^2\\right)\\right)\\right]/N^2 \\quad \\left[X_j^\\text{T}X_j=N\\right]\n",
    "\\end{aligned}\\end{equation}$$\n",
    "\n",
    "Let $\\tilde{r}_{jk}:=\\frac{1}{N}\\sum_{i=1}^N X_{ij}X_{ik}$ be the sample correlation between additively-coded genotypes at variants $j$ and $k$. Then, rewrite the term on the left as\n",
    "$$\\begin{equation}\\tag{1.6}\\frac{1}{N^2}X_j^\\text{T}XX^\\text{T}X_j=\\sum_{k=1}^M \\tilde{r}_{jk}^2\\end{equation}$$\n",
    "\n"
   ]
  },
  {
   "cell_type": "markdown",
   "id": "6b68d0a0",
   "metadata": {
    "slideshow": {
     "slide_type": "slide"
    }
   },
   "source": [
    "\n",
    "Obtain the expectation of $\\tilde{r}_{jk}^2$ by delta method:\n",
    "$$\\begin{equation}\\tag{1.7}\\begin{aligned}\n",
    "\\mathbb{E}\\left[\\tilde{r}_{jk}^2\\right]&=\\text{Var}\\left[\\tilde{r}_{jk}\\right]+\\mathbb{E}^2\\left[\\tilde{r}_{jk}\\right] \\qquad [\\text{MoM}]\\\\\n",
    "&=\\text{Var}\\left[\\frac{1}{N}\\sum_{i=1}^N X_{ij}X_{ik}\\right]+\\mathbb{E}^2\\left[\\frac{1}{N}\\sum_{i=1}^N X_{ij}X_{ik}\\right]\\\\\n",
    "&=\\frac{1}{N^2}\\sum_{i=1}^N\\text{Var}\\left[X_{ij}X_{ik}\\right]+\\frac{1}{N^2}\\sum_{i=1}^N\\mathbb{E}^2\\left[X_{ij}X_{ik}\\right] \\qquad \\left[\\text{independence of} i\\right]\\\\\n",
    "&=\\frac{1}{N^2}\\sum_{i=1}^N\\text{Var}\\left[X_{ij}X_{ik}\\right]+r_{jk}^2 \\qquad \\left[\\mathbb{E}\\left[X_{ij}X_{ik}\\right]=r_{jk}\\right]\\\\\n",
    "&\\approx r_{jk}^2+(1-r_{jk}^2)/N \\qquad \\left[\\text{delta method}\\right] ??\n",
    "\\end{aligned}\\end{equation}$$\n",
    "\n",
    "We have\n",
    "$$\\begin{equation}\\tag{1.8}\\begin{aligned}\n",
    "\\mathbb{E}\\left[\\sum_{k=1}^M \\tilde{r}_{jk}^2\\right] &\\approx \\sum_{k=1}^M r_{jk}^2+\\frac{\\sum_{k=1}^M\\left(1-r_{jk}^2\\right)}{N}\\\\\n",
    "&\\approx \\ell_j+\\frac{M-\\ell_j}{N} \\qquad \\left[\\text{definition of } \\ell_j\\right]\n",
    "\\end{aligned}\\end{equation}$$\n",
    "\n"
   ]
  },
  {
   "cell_type": "markdown",
   "id": "e807a82d",
   "metadata": {
    "slideshow": {
     "slide_type": "slide"
    }
   },
   "source": [
    "\n",
    "Therefore, we can continue the derivation of $\\text{Var}\\left[\\hat{\\beta}_j\\right]$ as\n",
    "$$\\begin{equation*}\\begin{aligned}\n",
    "\\text{Var}\\left[\\hat{\\beta}_j\\right]&=\\frac{1}{N^2}\\mathbb{E}\\left[\\left(\\frac{h_g^2}{M}X_j^\\text{T}XX^\\text{T}X_j+N\\left(1-h_g^2\\right)\\right)\\right]\\\\\n",
    "&=\\left(\\frac{h_g^2}{M}\\mathbb{E}\\left[\\sum_{k=1}^M \\tilde{r}_{jk}^2\\right]+\\left(1-h_g^2\\right)/N\\right) \\qquad \\left[\\text{Eq. (1.6)}\\right]\\\\\n",
    "&=\\left(\\frac{h_g^2}{M}\\left(\\ell_j+\\frac{M-\\ell_j}{N}\\right)+\\left(1-h_g^2\\right)/N\\right) \\qquad \\left[\\text{Eq. (1.8)}\\right]\\\\\n",
    "&=\\frac{(1-1/N)h_g^2}{M}\\ell_j+\\frac{1}{N}\\\\\n",
    "&\\approx\\frac{h_g^2}{M}\\ell_j+\\frac{1}{N} \\qquad \\left[1-1/N\\approx 1\\right]\n",
    "\\end{aligned}\\end{equation*}$$\n",
    "\n",
    "Finally, we can obtain the expectation of $\\chi^2_j$ as\n",
    "$$\\begin{equation}\\tag{1.9}\\mathbb{E}\\left[\\chi^2_j\\right]=N\\text{Var}\\left[\\hat{\\beta}_j\\right]\\approx\\frac{N h_g^2}{M}\\ell_j+1\\end{equation}$$\n",
    "\n"
   ]
  },
  {
   "cell_type": "markdown",
   "id": "1de1543f",
   "metadata": {
    "slideshow": {
     "slide_type": "slide"
    }
   },
   "source": [
    "\n",
    "## Reference\n",
    "\n",
    "1. B. K. Bulik-Sullivan et al., LD Score regression distinguishes confounding from polygenicity in genome-wide association studies, Nat Genet, vol. 47, no. 3, Art. no. 3, Mar. 2015, doi: 10.1038/ng.3211.\n",
    "\n",
    "<!-- 2. ... -->\n"
   ]
  }
 ],
 "metadata": {},
 "nbformat": 4,
 "nbformat_minor": 5
}
